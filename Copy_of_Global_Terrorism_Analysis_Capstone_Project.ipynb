{
  "nbformat": 4,
  "nbformat_minor": 0,
  "metadata": {
    "kernelspec": {
      "display_name": "Python 3",
      "language": "python",
      "name": "python3"
    },
    "language_info": {
      "codemirror_mode": {
        "name": "ipython",
        "version": 3
      },
      "file_extension": ".py",
      "mimetype": "text/x-python",
      "name": "python",
      "nbconvert_exporter": "python",
      "pygments_lexer": "ipython3",
      "version": "3.6.6"
    },
    "colab": {
      "provenance": [],
      "collapsed_sections": [],
      "include_colab_link": true
    }
  },
  "cells": [
    {
      "cell_type": "markdown",
      "metadata": {
        "id": "view-in-github",
        "colab_type": "text"
      },
      "source": [
        "<a href=\"https://colab.research.google.com/github/ChetanJadhav2341/Global-Terrorism-Analysis/blob/main/Copy_of_Global_Terrorism_Analysis_Capstone_Project.ipynb\" target=\"_parent\"><img src=\"https://colab.research.google.com/assets/colab-badge.svg\" alt=\"Open In Colab\"/></a>"
      ]
    },
    {
      "cell_type": "markdown",
      "metadata": {
        "id": "Y06xIdG26kRF"
      },
      "source": [
        "## <b> The Global Terrorism Database (GTD) is an open-source database including information on terrorist attacks around the world from 1970 through 2017. The GTD includes systematic data on domestic as well as international terrorist incidents that have occurred during this time period and now includes more than 180,000 attacks. The database is maintained by researchers at the National Consortium for the Study of Terrorism and Responses to Terrorism (START), headquartered at the University of Maryland.</b>\n",
        "\n",
        "# <b> Explore and analyze the data to discover key findings pertaining to terrorist activities. </b>"
      ]
    },
    {
      "cell_type": "code",
      "source": [
        "from google.colab import drive\n",
        "drive.mount('/content/drive')"
      ],
      "metadata": {
        "colab": {
          "base_uri": "https://localhost:8080/"
        },
        "id": "7C9owjqUBtuE",
        "outputId": "88ae881c-8d3e-4f8d-f634-a8c4c28e02cc"
      },
      "execution_count": 2,
      "outputs": [
        {
          "output_type": "stream",
          "name": "stdout",
          "text": [
            "Mounted at /content/drive\n"
          ]
        }
      ]
    },
    {
      "cell_type": "code",
      "source": [
        "import pandas as pd\n",
        "import numpy as np\n",
        "import seaborn as sns \n",
        "import matplotlib.pyplot as plt"
      ],
      "metadata": {
        "id": "D2nFtCqaCxys"
      },
      "execution_count": 7,
      "outputs": []
    },
    {
      "cell_type": "code",
      "metadata": {
        "id": "dByMsuzT8Tnw"
      },
      "source": [
        "url='/content/drive/MyDrive/Global Terrorism Analysis/Copy of Global Terrorism Analysis - Capstone Project.ipynb'"
      ],
      "execution_count": 8,
      "outputs": []
    },
    {
      "cell_type": "code",
      "source": [
        "df=pd.read_csv(url)"
      ],
      "metadata": {
        "id": "4VM9ngUCBeFK"
      },
      "execution_count": 10,
      "outputs": []
    },
    {
      "cell_type": "code",
      "source": [
        "df.head()"
      ],
      "metadata": {
        "colab": {
          "base_uri": "https://localhost:8080/",
          "height": 264
        },
        "id": "OMEYR9PKCith",
        "outputId": "54bc13eb-b029-43b5-c8c3-a72eea57765d"
      },
      "execution_count": 16,
      "outputs": [
        {
          "output_type": "execute_result",
          "data": {
            "text/plain": [
              "Empty DataFrame\n",
              "Columns: [{\"nbformat\":4, nbformat_minor:0, metadata:{\"kernelspec\":{\"display_name\":\"Python 3\", language:\"python\", name:\"python3\"}, language_info:{\"codemirror_mode\":{\"name\":\"ipython\", version:3}, file_extension:\".py\", mimetype:\"text/x-python\", name:\"python\", nbconvert_exporter:\"python\", pygments_lexer:\"ipython3\", version:\"3.6.6\"}, colab:{\"provenance\":[{\"file_id\":\"1G8H8KGMSFfz_UXO0KH1nVdXzvBd5H_kl\", timestamp:1666593707066}, {\"file_id\":\"1KNx2-lMsfxLj8Qi5Ez9LOXpMHRWtSHNK\", timestamp:1604585315628}], collapsed_sections:[]}}, cells:[{\"cell_type\":\"markdown\", metadata:{\"id\":\"Y06xIdG26kRF\"}, source:[\"## <b> The Global Terrorism Database (GTD) is an open-source database including information on terrorist attacks around the world from 1970 through 2017. The GTD includes systematic data on domestic as well as international terrorist incidents that have occurred during this time period and now includes more than 180, 000 attacks. The database is maintained by researchers at the National Consortium for the Study of Terrorism and Responses to Terrorism (START),  headquartered at the University of Maryland.</b>\\n\", \\n, # <b> Explore and analyze the data to discover key findings pertaining to terrorist activities. </b>]}, {\"cell_type\":\"code\", source:[\"from google.colab import drive\\n\", drive.mount('/content/drive')], metadata:{\"colab\":{\"base_uri\":\"https://localhost:8080/\"}, id:\"7C9owjqUBtuE\", executionInfo:{\"status\":\"ok\", timestamp:1666598803180, user_tz:-330, elapsed:39477, user:{\"displayName\":\"Chetan Jadhav\", userId:\"01954052030359843285\"}}, outputId:\"88ae881c-8d3e-4f8d-f634-a8c4c28e02cc\"}, execution_count:2, outputs:[{\"output_type\":\"stream\", name:\"stdout\", text:[\"Mounted at /content/drive\\n\"]}]}, {\"cell_type\":\"code\".1, source:[\"import pandas as pd\\n\", import numpy as np\\n, import seaborn as sns \\n, import matplotlib.pyplot as plt\\n], metadata:{\"id\":\"D2nFtCqaCxys\"}, execution_count:null, outputs:[]}, {\"cell_type\":\"code\".2, metadata:{\"id\":\"dByMsuzT8Tnw\", executionInfo:{\"status\":\"ok\".1, timestamp:1666598852986, user_tz:-330.1, elapsed:1414, user:{\"displayName\":\"Chetan Jadhav\".1, userId:\"01954052030359843285\"}}}, source:[\"url='/content/drive/MyDrive/Global Terrorism Analysis/Copy of Global Terrorism Analysis - Capstone Project.ipynb'\"], execution_count:3, outputs:[]}.1, {\"cell_type\":\"code\".3, source:[\"df=pd.read_csv('url')\"], metadata:{\"colab\":{\"base_uri\":\"https://localhost:8080/\", height:165}, id:\"4VM9ngUCBeFK\", executionInfo:{\"status\":\"error\", timestamp:1666599024539, user_tz:-330.2, elapsed:13, user:{\"displayName\":\"Chetan Jadhav\".2, userId:\"01954052030359843285\"}}.1, outputId:\"e68ee8fa-d804-4f92-baee-f5ad17243087\"}, execution_count:6, outputs:[{\"output_type\":\"error\", ename:\"NameError\", evalue:\"ignored\", traceback:[\"\\u001b[0;31m---------------------------------------------------------------------------\\u001b[0m\", \\u001b[0;31mNameError\\u001b[0m                                 Traceback (most recent call last), \\u001b[0;32m<ipython-input-6-fdba8c0e51fb>\\u001b[0m in \\u001b[0;36m<module>\\u001b[0;34m\\u001b[0m\\n\\u001b[0;32m----> 1\\u001b[0;31m \\u001b[0mdf\\u001b[0m\\u001b[0;34m=\\u001b[0m\\u001b[0mpd\\u001b[0m\\u001b[0;34m.\\u001b[0m\\u001b[0mread_csv\\u001b[0m\\u001b[0;34m(\\u001b[0m\\u001b[0;34m'url'\\u001b[0m\\u001b[0;34m)\\u001b[0m\\u001b[0;34m\\u001b[0m\\u001b[0;34m\\u001b[0m\\u001b[0m\\n\\u001b[0m, \\u001b[0;31mNameError\\u001b[0m: name 'pd' is not defined]}]}, {\"cell_type\":\"code\".4, source:[], metadata:{\"id\":\"OMEYR9PKCith\"}, execution_count:null.1, outputs:[]}]}]\n",
              "Index: []\n",
              "\n",
              "[0 rows x 85 columns]"
            ],
            "text/html": [
              "\n",
              "  <div id=\"df-7fa79fb1-fd8c-43f2-83ca-49cf650609fc\">\n",
              "    <div class=\"colab-df-container\">\n",
              "      <div>\n",
              "<style scoped>\n",
              "    .dataframe tbody tr th:only-of-type {\n",
              "        vertical-align: middle;\n",
              "    }\n",
              "\n",
              "    .dataframe tbody tr th {\n",
              "        vertical-align: top;\n",
              "    }\n",
              "\n",
              "    .dataframe thead th {\n",
              "        text-align: right;\n",
              "    }\n",
              "</style>\n",
              "<table border=\"1\" class=\"dataframe\">\n",
              "  <thead>\n",
              "    <tr style=\"text-align: right;\">\n",
              "      <th></th>\n",
              "      <th>{\"nbformat\":4</th>\n",
              "      <th>nbformat_minor:0</th>\n",
              "      <th>metadata:{\"kernelspec\":{\"display_name\":\"Python 3\"</th>\n",
              "      <th>language:\"python\"</th>\n",
              "      <th>name:\"python3\"}</th>\n",
              "      <th>language_info:{\"codemirror_mode\":{\"name\":\"ipython\"</th>\n",
              "      <th>version:3}</th>\n",
              "      <th>file_extension:\".py\"</th>\n",
              "      <th>mimetype:\"text/x-python\"</th>\n",
              "      <th>name:\"python\"</th>\n",
              "      <th>...</th>\n",
              "      <th>evalue:\"ignored\"</th>\n",
              "      <th>traceback:[\"\\u001b[0;31m---------------------------------------------------------------------------\\u001b[0m\"</th>\n",
              "      <th>\\u001b[0;31mNameError\\u001b[0m                                 Traceback (most recent call last)</th>\n",
              "      <th>\\u001b[0;32m&lt;ipython-input-6-fdba8c0e51fb&gt;\\u001b[0m in \\u001b[0;36m&lt;module&gt;\\u001b[0;34m\\u001b[0m\\n\\u001b[0;32m----&gt; 1\\u001b[0;31m \\u001b[0mdf\\u001b[0m\\u001b[0;34m=\\u001b[0m\\u001b[0mpd\\u001b[0m\\u001b[0;34m.\\u001b[0m\\u001b[0mread_csv\\u001b[0m\\u001b[0;34m(\\u001b[0m\\u001b[0;34m'url'\\u001b[0m\\u001b[0;34m)\\u001b[0m\\u001b[0;34m\\u001b[0m\\u001b[0;34m\\u001b[0m\\u001b[0m\\n\\u001b[0m</th>\n",
              "      <th>\\u001b[0;31mNameError\\u001b[0m: name 'pd' is not defined]}]}</th>\n",
              "      <th>{\"cell_type\":\"code\".4</th>\n",
              "      <th>source:[]</th>\n",
              "      <th>metadata:{\"id\":\"OMEYR9PKCith\"}</th>\n",
              "      <th>execution_count:null.1</th>\n",
              "      <th>outputs:[]}]}</th>\n",
              "    </tr>\n",
              "  </thead>\n",
              "  <tbody>\n",
              "  </tbody>\n",
              "</table>\n",
              "<p>0 rows × 85 columns</p>\n",
              "</div>\n",
              "      <button class=\"colab-df-convert\" onclick=\"convertToInteractive('df-7fa79fb1-fd8c-43f2-83ca-49cf650609fc')\"\n",
              "              title=\"Convert this dataframe to an interactive table.\"\n",
              "              style=\"display:none;\">\n",
              "        \n",
              "  <svg xmlns=\"http://www.w3.org/2000/svg\" height=\"24px\"viewBox=\"0 0 24 24\"\n",
              "       width=\"24px\">\n",
              "    <path d=\"M0 0h24v24H0V0z\" fill=\"none\"/>\n",
              "    <path d=\"M18.56 5.44l.94 2.06.94-2.06 2.06-.94-2.06-.94-.94-2.06-.94 2.06-2.06.94zm-11 1L8.5 8.5l.94-2.06 2.06-.94-2.06-.94L8.5 2.5l-.94 2.06-2.06.94zm10 10l.94 2.06.94-2.06 2.06-.94-2.06-.94-.94-2.06-.94 2.06-2.06.94z\"/><path d=\"M17.41 7.96l-1.37-1.37c-.4-.4-.92-.59-1.43-.59-.52 0-1.04.2-1.43.59L10.3 9.45l-7.72 7.72c-.78.78-.78 2.05 0 2.83L4 21.41c.39.39.9.59 1.41.59.51 0 1.02-.2 1.41-.59l7.78-7.78 2.81-2.81c.8-.78.8-2.07 0-2.86zM5.41 20L4 18.59l7.72-7.72 1.47 1.35L5.41 20z\"/>\n",
              "  </svg>\n",
              "      </button>\n",
              "      \n",
              "  <style>\n",
              "    .colab-df-container {\n",
              "      display:flex;\n",
              "      flex-wrap:wrap;\n",
              "      gap: 12px;\n",
              "    }\n",
              "\n",
              "    .colab-df-convert {\n",
              "      background-color: #E8F0FE;\n",
              "      border: none;\n",
              "      border-radius: 50%;\n",
              "      cursor: pointer;\n",
              "      display: none;\n",
              "      fill: #1967D2;\n",
              "      height: 32px;\n",
              "      padding: 0 0 0 0;\n",
              "      width: 32px;\n",
              "    }\n",
              "\n",
              "    .colab-df-convert:hover {\n",
              "      background-color: #E2EBFA;\n",
              "      box-shadow: 0px 1px 2px rgba(60, 64, 67, 0.3), 0px 1px 3px 1px rgba(60, 64, 67, 0.15);\n",
              "      fill: #174EA6;\n",
              "    }\n",
              "\n",
              "    [theme=dark] .colab-df-convert {\n",
              "      background-color: #3B4455;\n",
              "      fill: #D2E3FC;\n",
              "    }\n",
              "\n",
              "    [theme=dark] .colab-df-convert:hover {\n",
              "      background-color: #434B5C;\n",
              "      box-shadow: 0px 1px 3px 1px rgba(0, 0, 0, 0.15);\n",
              "      filter: drop-shadow(0px 1px 2px rgba(0, 0, 0, 0.3));\n",
              "      fill: #FFFFFF;\n",
              "    }\n",
              "  </style>\n",
              "\n",
              "      <script>\n",
              "        const buttonEl =\n",
              "          document.querySelector('#df-7fa79fb1-fd8c-43f2-83ca-49cf650609fc button.colab-df-convert');\n",
              "        buttonEl.style.display =\n",
              "          google.colab.kernel.accessAllowed ? 'block' : 'none';\n",
              "\n",
              "        async function convertToInteractive(key) {\n",
              "          const element = document.querySelector('#df-7fa79fb1-fd8c-43f2-83ca-49cf650609fc');\n",
              "          const dataTable =\n",
              "            await google.colab.kernel.invokeFunction('convertToInteractive',\n",
              "                                                     [key], {});\n",
              "          if (!dataTable) return;\n",
              "\n",
              "          const docLinkHtml = 'Like what you see? Visit the ' +\n",
              "            '<a target=\"_blank\" href=https://colab.research.google.com/notebooks/data_table.ipynb>data table notebook</a>'\n",
              "            + ' to learn more about interactive tables.';\n",
              "          element.innerHTML = '';\n",
              "          dataTable['output_type'] = 'display_data';\n",
              "          await google.colab.output.renderOutput(dataTable, element);\n",
              "          const docLink = document.createElement('div');\n",
              "          docLink.innerHTML = docLinkHtml;\n",
              "          element.appendChild(docLink);\n",
              "        }\n",
              "      </script>\n",
              "    </div>\n",
              "  </div>\n",
              "  "
            ]
          },
          "metadata": {},
          "execution_count": 16
        }
      ]
    },
    {
      "cell_type": "code",
      "source": [],
      "metadata": {
        "id": "FLlXDPzdDUeY"
      },
      "execution_count": null,
      "outputs": []
    }
  ]
}